{
 "cells": [
  {
   "cell_type": "code",
   "execution_count": 1,
   "metadata": {},
   "outputs": [],
   "source": [
    "import pandas as pd\n",
    "from sklearn.preprocessing import LabelEncoder\n",
    "from sklearn.model_selection import train_test_split\n",
    "from sklearn.linear_model import LogisticRegression\n",
    "from sklearn.metrics import accuracy_score\n",
    "from deap import creator, base, tools, algorithms\n",
    "from scoop import futures\n",
    "import random\n",
    "import numpy as np\n",
    "from scipy import interpolate\n",
    "# import matplotlib.pyplot as plt\n",
    "\n"
   ]
  },
  {
   "cell_type": "code",
   "execution_count": 2,
   "metadata": {},
   "outputs": [
    {
     "name": "stdout",
     "output_type": "stream",
     "text": [
      " Label\n",
      "0    5000\n",
      "1    5500\n",
      "2    5500\n",
      "3    5499\n",
      "4    5796\n",
      "dtype: int64\n"
     ]
    }
   ],
   "source": [
    "# Read in data from CSV\n",
    "dfData = pd.read_csv('../data/Wednesday-workingHours-withoutInfinity-Sampled.pcap_ISCX.csv')\n",
    "\n",
    "print(dfData.groupby(' Label').size())"
   ]
  },
  {
   "cell_type": "code",
   "execution_count": 3,
   "metadata": {},
   "outputs": [],
   "source": [
    "# change dfData column order\n",
    "column = list(dfData.columns.values)\n",
    "column.remove(' Destination IP')\n",
    "column.remove(' Timestamp')\n",
    "column.insert(2, ' Destination IP')\n",
    "column.insert(3, ' Timestamp')\n",
    "\n",
    "dfData = dfData[column]"
   ]
  },
  {
   "cell_type": "code",
   "execution_count": 4,
   "metadata": {},
   "outputs": [],
   "source": [
    "# Encode the classification labels to numbers\n",
    "# Get classes and one hot encoded feature vectors\n",
    "le = LabelEncoder()\n",
    "le.fit(dfData[' Label'])\n",
    "allClasses = le.transform(dfData[' Label'])\n",
    "allFeatures_full = dfData.drop([' Label'], axis=1)\n",
    "\n",
    "# omit the first 4 features\n",
    "allFeatures = allFeatures_full.iloc[:,4:]"
   ]
  },
  {
   "cell_type": "code",
   "execution_count": 5,
   "metadata": {},
   "outputs": [],
   "source": [
    "# normalize\n",
    "from sklearn.preprocessing import normalize\n",
    "\n",
    "allFeatures = pd.DataFrame(normalize(allFeatures, axis=1, copy=True, return_norm=False), columns=column[4:-1])"
   ]
  },
  {
   "cell_type": "code",
   "execution_count": 6,
   "metadata": {},
   "outputs": [],
   "source": [
    "## every value goes up by 1, due to the chi2 condition\n",
    "allFeatures += 1"
   ]
  },
  {
   "cell_type": "code",
   "execution_count": 7,
   "metadata": {},
   "outputs": [
    {
     "data": {
      "text/plain": [
       "(27295, 80)"
      ]
     },
     "execution_count": 7,
     "metadata": {},
     "output_type": "execute_result"
    }
   ],
   "source": [
    "## need improvise because of chi squared\n",
    "np.shape(allFeatures)\n",
    "# (allFeatures<0).sum()"
   ]
  },
  {
   "cell_type": "code",
   "execution_count": 9,
   "metadata": {},
   "outputs": [],
   "source": [
    "# Form training, test, and validation sets\n",
    "X_trainAndTest, X_validation, y_trainAndTest, y_validation = train_test_split(allFeatures, allClasses, test_size=0.20, random_state=42)\n",
    "X_train, X_test, y_train, y_test = train_test_split(X_trainAndTest, y_trainAndTest, test_size=0.20, random_state=42)"
   ]
  },
  {
   "cell_type": "code",
   "execution_count": 10,
   "metadata": {},
   "outputs": [],
   "source": [
    "# X_train = X_train[:6400]\n",
    "# X_test = X_test[:1600]\n",
    "# y_train = y_train[:6400]\n",
    "# y_test = y_test[:1600]\n",
    "# X_trainAndTest = X_trainAndTest[:8000]\n",
    "# X_validation = X_validation[:2000]\n",
    "# y_trainAndTest = y_trainAndTest[:8000]\n",
    "# y_validation = y_validation[:2000]"
   ]
  },
  {
   "cell_type": "code",
   "execution_count": 11,
   "metadata": {},
   "outputs": [],
   "source": [
    "## original lr"
   ]
  },
  {
   "cell_type": "code",
   "execution_count": 12,
   "metadata": {},
   "outputs": [
    {
     "name": "stdout",
     "output_type": "stream",
     "text": [
      "Training score: 0.8660980077856653\n"
     ]
    }
   ],
   "source": [
    "from sklearn import svm\n",
    "from sklearn import metrics\n",
    "from sklearn.linear_model import LogisticRegression\n",
    "\n",
    "# clf_svm = svm.SVC()\n",
    "# clf_svm.fit(X_train, y_train)\n",
    "\n",
    "# y_pred = clf_svm.predict(X_train)\n",
    "# acc = metrics.accuracy_score(y_train, y_pred)\n",
    "# print(\"Training score: {}\".format(acc))\n",
    "\n",
    "clf_svm = LogisticRegression()\n",
    "clf_svm.fit(X_train, y_train)\n",
    "\n",
    "y_pred = clf_svm.predict(X_train)\n",
    "acc = metrics.accuracy_score(y_train, y_pred)\n",
    "print(\"Training score: {}\".format(acc))"
   ]
  },
  {
   "cell_type": "code",
   "execution_count": 13,
   "metadata": {},
   "outputs": [
    {
     "name": "stdout",
     "output_type": "stream",
     "text": [
      "Validation score: 0.8670086096354643\n"
     ]
    }
   ],
   "source": [
    "y_pred = clf_svm.predict(X_validation)\n",
    "acc = metrics.accuracy_score(y_validation, y_pred)\n",
    "print(\"Validation score: {}\".format(acc))"
   ]
  },
  {
   "cell_type": "code",
   "execution_count": 14,
   "metadata": {},
   "outputs": [],
   "source": [
    "## filtered lr"
   ]
  },
  {
   "cell_type": "code",
   "execution_count": 15,
   "metadata": {},
   "outputs": [],
   "source": [
    "## Filter Chi-squared\n",
    "from sklearn.feature_selection import chi2\n",
    "from math import isnan\n",
    "import operator\n",
    "\n",
    "temp = chi2(X_train, y_train)\n",
    "\n",
    "dict_temp = {}\n",
    "for i in range(len(temp[0])):\n",
    "    if not isnan(temp[0][i]):\n",
    "        dict_temp[str(i)] = temp[0][i]\n",
    "        \n",
    "sorted_dict_temp = sorted(dict_temp.items(), key=operator.itemgetter(1))\n",
    "column = list(dfData.columns.values)"
   ]
  },
  {
   "cell_type": "code",
   "execution_count": 16,
   "metadata": {},
   "outputs": [],
   "source": [
    "# go through all possible # of features\n",
    "k = [index for index in range(1,81)]\n",
    "\n",
    "from collections import defaultdict\n",
    "test_acc = defaultdict(list)\n",
    "train_acc = defaultdict(list)\n",
    "val_acc = defaultdict(list)"
   ]
  },
  {
   "cell_type": "code",
   "execution_count": 17,
   "metadata": {},
   "outputs": [],
   "source": [
    "from sklearn.feature_selection import SelectKBest\n",
    "\n",
    "for item in k:\n",
    "    test = SelectKBest(score_func=chi2, k=item)\n",
    "    fit = test.fit(X_train, y_train)\n",
    "\n",
    "    # summarize scores\n",
    "    # np.set_printoptions(precision=3)\n",
    "    # print(fit.scores_)\n",
    "\n",
    "    X_train_v1 = fit.transform(X_train)\n",
    "    X_test_v1 = fit.transform(X_test)\n",
    "    X_validation_v1 = fit.transform(X_validation)\n",
    "\n",
    "    # summarize selected features\n",
    "    # print(X_train_v1[0:5,:])\n",
    "    \n",
    "    clf = LogisticRegression()\n",
    "    clf.fit(X_train_v1, y_train)\n",
    "\n",
    "    y_pred = clf.predict(X_train_v1)\n",
    "    train = metrics.accuracy_score(y_train, y_pred)\n",
    "    train_acc[item].append(train) \n",
    "    \n",
    "    y_pred = clf.predict(X_test_v1)\n",
    "    test = metrics.accuracy_score(y_test, y_pred)\n",
    "    test_acc[item].append(test) \n",
    "    \n",
    "    y_pred = clf.predict(X_validation_v1)\n",
    "    validation = metrics.accuracy_score(y_validation, y_pred)\n",
    "    val_acc[item].append(validation)"
   ]
  },
  {
   "cell_type": "code",
   "execution_count": 36,
   "metadata": {},
   "outputs": [
    {
     "name": "stdout",
     "output_type": "stream",
     "text": [
      "validation acc: \n",
      "[0.8675581608353178] [60, 61, 65, 68, 70]\n"
     ]
    }
   ],
   "source": [
    "# max(val_acc, key=(lambda key: val_acc[key]))\n",
    "# val_acc\n",
    "max_val_value = max(val_acc.values())\n",
    "max_val_keys = [k for k, v in val_acc.items() if v == max_val_value] # getting all keys containing the `maximum`\n",
    "print(\"MAX Validation Acc: \")\n",
    "print(max_val_value, max_val_keys)"
   ]
  },
  {
   "cell_type": "code",
   "execution_count": 39,
   "metadata": {},
   "outputs": [
    {
     "name": "stdout",
     "output_type": "stream",
     "text": [
      "Test Acc: \n",
      "[0.8804945054945055] [34, 35, 36]\n"
     ]
    }
   ],
   "source": [
    "# max_test_value = max(test_acc.values())\n",
    "# max_test_keys = [k for k, v in test_acc.items() if v == max_test_value] # getting all keys containing the `maximum`\n",
    "# print(\"MAX Test Acc: \")\n",
    "# print(max_test_value, max_test_keys)"
   ]
  },
  {
   "cell_type": "code",
   "execution_count": 40,
   "metadata": {},
   "outputs": [
    {
     "name": "stdout",
     "output_type": "stream",
     "text": [
      "MAX Train Acc: \n",
      "[0.8663842454774444] [54]\n"
     ]
    }
   ],
   "source": [
    "# max_train_value = max(train_acc.values())\n",
    "# max_train_keys = [k for k, v in train_acc.items() if v == max_train_value] # getting all keys containing the `maximum`\n",
    "# print(\"MAX Train Acc: \")\n",
    "# print(max_train_value, max_train_keys)"
   ]
  },
  {
   "cell_type": "code",
   "execution_count": 20,
   "metadata": {},
   "outputs": [],
   "source": [
    "# np.shape(allFeatures)[1]"
   ]
  },
  {
   "cell_type": "code",
   "execution_count": 44,
   "metadata": {},
   "outputs": [
    {
     "data": {
      "image/png": "[encoded data removed]",
      "text/plain": [
       "<Figure size 432x288 with 1 Axes>"
      ]
     },
     "metadata": {},
     "output_type": "display_data"
    }
   ],
   "source": [
    "import matplotlib.pyplot as plt\n",
    "\n",
    "g = plt.figure(1)\n",
    "plt.plot(list(val_acc.keys()), list(val_acc.values()))\n",
    "plt.title('Chi2 filter: Validation Set Classification Accuracy curve')\n",
    "plt.xlabel('# of features chosen')\n",
    "plt.ylabel('Validation Set Accuracy')\n",
    "plt.grid()"
   ]
  },
  {
   "cell_type": "code",
   "execution_count": null,
   "metadata": {},
   "outputs": [],
   "source": []
  }
 ],
 "metadata": {
  "kernelspec": {
   "display_name": "Python 3",
   "language": "python",
   "name": "python3"
  },
  "language_info": {
   "codemirror_mode": {
    "name": "ipython",
    "version": 3
   },
   "file_extension": ".py",
   "mimetype": "text/x-python",
   "name": "python",
   "nbconvert_exporter": "python",
   "pygments_lexer": "ipython3",
   "version": "3.6.3"
  }
 },
 "nbformat": 4,
 "nbformat_minor": 2
}

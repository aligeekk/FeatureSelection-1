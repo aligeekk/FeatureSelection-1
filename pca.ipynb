{
 "cells": [
  {
   "cell_type": "code",
   "execution_count": 1,
   "metadata": {},
   "outputs": [],
   "source": [
    "import pandas as pd\n",
    "from sklearn.preprocessing import LabelEncoder\n",
    "from sklearn.model_selection import train_test_split\n",
    "from sklearn import svm\n",
    "from sklearn.metrics import accuracy_score\n",
    "from sklearn import linear_model, datasets\n",
    "import random\n",
    "import numpy as np\n",
    "from scipy import interpolate\n",
    "from sklearn.linear_model import LogisticRegression\n",
    "import matplotlib.pyplot as plt"
   ]
  },
  {
   "cell_type": "code",
   "execution_count": 2,
   "metadata": {},
   "outputs": [
    {
     "name": "stdout",
     "output_type": "stream",
     "text": [
      " Label\n",
      "0    5000\n",
      "1    5500\n",
      "2    5500\n",
      "3    5499\n",
      "4    5796\n",
      "dtype: int64\n"
     ]
    }
   ],
   "source": [
    "# Read in data from CSV\n",
    "dfData = pd.read_csv('../data/Wednesday-workingHours-withoutInfinity-Sampled.pcap_ISCX.csv')\n",
    "\n",
    "print(dfData.groupby(' Label').size())"
   ]
  },
  {
   "cell_type": "code",
   "execution_count": 3,
   "metadata": {},
   "outputs": [],
   "source": [
    "# change dfData column order\n",
    "column = list(dfData.columns.values)\n",
    "column.remove(' Destination IP')\n",
    "column.remove(' Timestamp')\n",
    "column.insert(2, ' Destination IP')\n",
    "column.insert(3, ' Timestamp')\n",
    "\n",
    "dfData = dfData[column]"
   ]
  },
  {
   "cell_type": "code",
   "execution_count": 4,
   "metadata": {},
   "outputs": [],
   "source": [
    "# Encode the classification labels to numbers\n",
    "# Get classes and one hot encoded feature vectors\n",
    "le = LabelEncoder()\n",
    "le.fit(dfData[' Label'])\n",
    "allClasses = le.transform(dfData[' Label'])\n",
    "allFeatures_full = dfData.drop([' Label'], axis=1)\n",
    "\n",
    "# omit the first 4 features\n",
    "allFeatures = allFeatures_full.iloc[:,4:]"
   ]
  },
  {
   "cell_type": "code",
   "execution_count": 5,
   "metadata": {},
   "outputs": [],
   "source": [
    "# normalize\n",
    "from sklearn.preprocessing import normalize\n",
    "\n",
    "allFeatures = pd.DataFrame(normalize(allFeatures, axis=1, copy=True, return_norm=False), columns=column[4:-1])"
   ]
  },
  {
   "cell_type": "code",
   "execution_count": 6,
   "metadata": {},
   "outputs": [],
   "source": [
    "# Form training, test, and validation sets\n",
    "X_trainAndTest, X_validation, y_trainAndTest, y_validation = train_test_split(allFeatures, allClasses, test_size=0.20, random_state=42)\n",
    "X_train, X_test, y_train, y_test = train_test_split(X_trainAndTest, y_trainAndTest, test_size=0.20, random_state=42)"
   ]
  },
  {
   "cell_type": "code",
   "execution_count": 7,
   "metadata": {},
   "outputs": [
    {
     "data": {
      "text/plain": [
       "(27295, 80)"
      ]
     },
     "execution_count": 7,
     "metadata": {},
     "output_type": "execute_result"
    }
   ],
   "source": [
    "# import numpy as np\n",
    "np.shape(allFeatures)"
   ]
  },
  {
   "cell_type": "code",
   "execution_count": 8,
   "metadata": {},
   "outputs": [],
   "source": [
    "chosen = [' Source Port', ' Destination Port', ' Flow Duration', 'Total Length of Fwd Packets', ' Total Length of Bwd Packets', 'Bwd Packet Length Max', ' Bwd Packet Length Min', 'Flow Bytes/s', ' Flow IAT Mean', ' Flow IAT Std', ' Flow IAT Max', ' Flow IAT Min', 'Fwd IAT Total', ' Fwd IAT Mean', ' Fwd IAT Std', ' Fwd IAT Min', 'Bwd IAT Total', ' Bwd IAT Mean', ' Bwd IAT Std', ' Bwd IAT Min', 'Fwd PSH Flags', ' Bwd PSH Flags', ' Fwd URG Flags', ' Fwd Header Length', ' Bwd Packets/s', ' Packet Length Mean', ' ACK Flag Count', ' Down/Up Ratio', ' Avg Fwd Segment Size', ' Fwd Header Length.1', 'Fwd Avg Bytes/Bulk', ' Fwd Avg Packets/Bulk', ' Bwd Avg Bytes/Bulk', 'Bwd Avg Bulk Rate', 'Subflow Fwd Packets', ' Subflow Fwd Bytes', 'Init_Win_bytes_forward', ' act_data_pkt_fwd', ' Active Std', ' Active Min', ' Idle Max']\n"
   ]
  },
  {
   "cell_type": "code",
   "execution_count": 9,
   "metadata": {},
   "outputs": [],
   "source": [
    "df_selected = allFeatures[chosen]"
   ]
  },
  {
   "cell_type": "code",
   "execution_count": null,
   "metadata": {},
   "outputs": [],
   "source": [
    "##SVM for PCA evaluation"
   ]
  },
  {
   "cell_type": "code",
   "execution_count": 18,
   "metadata": {},
   "outputs": [],
   "source": [
    "k = [index for index in range(80,0,-1)]\n",
    "\n",
    "from collections import defaultdict\n",
    "test_acc = defaultdict(list)\n",
    "train_acc = defaultdict(list)\n",
    "val_acc = defaultdict(list)"
   ]
  },
  {
   "cell_type": "code",
   "execution_count": 19,
   "metadata": {},
   "outputs": [
    {
     "name": "stdout",
     "output_type": "stream",
     "text": [
      "# of features selected:  80\n",
      "________________________________________\n",
      "# of features selected:  79\n",
      "________________________________________\n",
      "# of features selected:  78\n",
      "________________________________________\n",
      "# of features selected:  77\n",
      "________________________________________\n",
      "# of features selected:  76\n",
      "________________________________________\n",
      "# of features selected:  75\n",
      "________________________________________\n",
      "# of features selected:  74\n",
      "________________________________________\n",
      "# of features selected:  73\n",
      "________________________________________\n",
      "# of features selected:  72\n",
      "________________________________________\n",
      "# of features selected:  71\n",
      "________________________________________\n",
      "# of features selected:  70\n",
      "________________________________________\n",
      "# of features selected:  69\n",
      "________________________________________\n",
      "# of features selected:  68\n",
      "________________________________________\n",
      "# of features selected:  67\n",
      "________________________________________\n",
      "# of features selected:  66\n",
      "________________________________________\n",
      "# of features selected:  65\n",
      "________________________________________\n",
      "# of features selected:  64\n",
      "________________________________________\n",
      "# of features selected:  63\n",
      "________________________________________\n",
      "# of features selected:  62\n",
      "________________________________________\n",
      "# of features selected:  61\n",
      "________________________________________\n",
      "# of features selected:  60\n",
      "________________________________________\n",
      "# of features selected:  59\n",
      "________________________________________\n",
      "# of features selected:  58\n",
      "________________________________________\n",
      "# of features selected:  57\n",
      "________________________________________\n",
      "# of features selected:  56\n",
      "________________________________________\n",
      "# of features selected:  55\n",
      "________________________________________\n",
      "# of features selected:  54\n",
      "________________________________________\n",
      "# of features selected:  53\n",
      "________________________________________\n",
      "# of features selected:  52\n",
      "________________________________________\n",
      "# of features selected:  51\n",
      "________________________________________\n",
      "# of features selected:  50\n",
      "________________________________________\n",
      "# of features selected:  49\n",
      "________________________________________\n",
      "# of features selected:  48\n",
      "________________________________________\n",
      "# of features selected:  47\n",
      "________________________________________\n",
      "# of features selected:  46\n",
      "________________________________________\n",
      "# of features selected:  45\n",
      "________________________________________\n",
      "# of features selected:  44\n",
      "________________________________________\n",
      "# of features selected:  43\n",
      "________________________________________\n",
      "# of features selected:  42\n",
      "________________________________________\n",
      "# of features selected:  41\n",
      "________________________________________\n",
      "# of features selected:  40\n",
      "________________________________________\n",
      "# of features selected:  39\n",
      "________________________________________\n",
      "# of features selected:  38\n",
      "________________________________________\n",
      "# of features selected:  37\n",
      "________________________________________\n",
      "# of features selected:  36\n",
      "________________________________________\n",
      "# of features selected:  35\n",
      "________________________________________\n",
      "# of features selected:  34\n",
      "________________________________________\n",
      "# of features selected:  33\n",
      "________________________________________\n",
      "# of features selected:  32\n",
      "________________________________________\n",
      "# of features selected:  31\n",
      "________________________________________\n",
      "# of features selected:  30\n",
      "________________________________________\n",
      "# of features selected:  29\n",
      "________________________________________\n",
      "# of features selected:  28\n",
      "________________________________________\n",
      "# of features selected:  27\n",
      "________________________________________\n",
      "# of features selected:  26\n",
      "________________________________________\n",
      "# of features selected:  25\n",
      "________________________________________\n",
      "# of features selected:  24\n",
      "________________________________________\n",
      "# of features selected:  23\n",
      "________________________________________\n",
      "# of features selected:  22\n",
      "________________________________________\n",
      "# of features selected:  21\n",
      "________________________________________\n",
      "# of features selected:  20\n",
      "________________________________________\n",
      "# of features selected:  19\n",
      "________________________________________\n",
      "# of features selected:  18\n",
      "________________________________________\n",
      "# of features selected:  17\n",
      "________________________________________\n",
      "# of features selected:  16\n",
      "________________________________________\n",
      "# of features selected:  15\n",
      "________________________________________\n",
      "# of features selected:  14\n",
      "________________________________________\n",
      "# of features selected:  13\n",
      "________________________________________\n",
      "# of features selected:  12\n",
      "________________________________________\n",
      "# of features selected:  11\n",
      "________________________________________\n",
      "# of features selected:  10\n",
      "________________________________________\n",
      "# of features selected:  9\n",
      "________________________________________\n",
      "# of features selected:  8\n",
      "________________________________________\n",
      "# of features selected:  7\n",
      "________________________________________\n",
      "# of features selected:  6\n",
      "________________________________________\n",
      "# of features selected:  5\n",
      "________________________________________\n",
      "# of features selected:  4\n",
      "________________________________________\n",
      "# of features selected:  3\n",
      "________________________________________\n",
      "# of features selected:  2\n",
      "________________________________________\n",
      "# of features selected:  1\n",
      "________________________________________\n"
     ]
    }
   ],
   "source": [
    "from sklearn.feature_selection import RFE\n",
    "from sklearn import decomposition\n",
    "from sklearn import metrics\n",
    "\n",
    "for item in k:\n",
    "    \n",
    "    print(\"# of features selected: \", item)\n",
    "    pca = decomposition.PCA(n_components=item)\n",
    "    pca.fit(allFeatures)\n",
    "    pca_features = pca.transform(allFeatures)\n",
    "    \n",
    "    # Form training, test, and validation sets\n",
    "    X_pca_trainAndTest, X_pca_validation, y_pca_trainAndTest, y_pca_validation = train_test_split(pca_features, allClasses, test_size=0.20, random_state=42)\n",
    "    X_pca_train, X_pca_test, y_pca_train, y_pca_test = train_test_split(X_pca_trainAndTest, y_pca_trainAndTest, test_size=0.20, random_state=42)\n",
    "    \n",
    "    clf = svm.SVC()\n",
    "    clf.fit(X_pca_train, y_pca_train)\n",
    "\n",
    "    train_acc[item].append(metrics.accuracy_score(y_pca_train, clf.predict(X_pca_train))) \n",
    "    test_acc[item].append(metrics.accuracy_score(y_pca_test, clf.predict(X_pca_test))) \n",
    "    val_acc[item].append(metrics.accuracy_score(y_pca_validation, clf.predict(X_pca_validation)))\n",
    "#     print(\"these features are:\")\n",
    "#     names_features = rfe.get_support(True)\n",
    "#     for item in (names_features):\n",
    "#         print(column[item])\n",
    "\n",
    "# acc = \n",
    "    \n",
    "    print(\"________________________________________\")\n",
    "    "
   ]
  },
  {
   "cell_type": "code",
   "execution_count": 30,
   "metadata": {},
   "outputs": [
    {
     "data": {
      "image/png": "[encoded data removed]",
      "text/plain": [
       "<Figure size 432x288 with 1 Axes>"
      ]
     },
     "metadata": {},
     "output_type": "display_data"
    }
   ],
   "source": [
    "import matplotlib.pyplot as plt\n",
    "\n",
    "g = plt.figure(0)\n",
    "plt.plot(list(train_acc.keys()), list(train_acc.values()), color='r', label='training accuracy')\n",
    "plt.plot(list(val_acc.keys()), list(val_acc.values()), color='g', label='testing accuracy')\n",
    "\n",
    "def annot_max(x,y, ax=None):\n",
    "    xmax = x[np.argmax(y)]\n",
    "    ymax = y.max()\n",
    "    text= \"x={:.3f}, y={:.3f}\".format(xmax, ymax)\n",
    "    if not ax:\n",
    "        ax=plt.gca()\n",
    "    bbox_props = dict(boxstyle=\"square,pad=0.3\", fc=\"w\", ec=\"k\", lw=0.72)\n",
    "    arrowprops=dict(arrowstyle=\"->\",connectionstyle=\"angle,angleA=0,angleB=60\")\n",
    "    kw = dict(xycoords='data',textcoords=\"axes fraction\",\n",
    "              arrowprops=arrowprops, bbox=bbox_props, ha=\"right\", va=\"top\")\n",
    "    ax.annotate(text, xy=(xmax, ymax), xytext=(0.94,0.96), **kw)\n",
    "\n",
    "annot_max(np.asanyarray(list(val_acc.keys())),np.asanyarray(list(val_acc.values())))\n",
    "\n",
    "plt.legend()\n",
    "plt.title('SVM accuracy curve')\n",
    "plt.xlabel('# of features chosen')\n",
    "plt.ylabel('Accuracy')\n",
    "plt.grid()\n",
    "plt.show()"
   ]
  },
  {
   "cell_type": "code",
   "execution_count": 21,
   "metadata": {},
   "outputs": [
    {
     "name": "stdout",
     "output_type": "stream",
     "text": [
      "MAX Validation Acc: \n",
      "[0.8501557061732918] [21]\n"
     ]
    }
   ],
   "source": [
    "# max_val_value = max(val_acc.values())\n",
    "# max_val_keys = [k for k, v in val_acc.items() if v == max_val_value] # getting all keys containing the `maximum`\n",
    "# print(\"MAX Validation Acc: \")\n",
    "# print(max_val_value, max_val_keys)"
   ]
  },
  {
   "cell_type": "code",
   "execution_count": null,
   "metadata": {},
   "outputs": [],
   "source": []
  }
 ],
 "metadata": {
  "kernelspec": {
   "display_name": "Python 3",
   "language": "python",
   "name": "python3"
  },
  "language_info": {
   "codemirror_mode": {
    "name": "ipython",
    "version": 3
   },
   "file_extension": ".py",
   "mimetype": "text/x-python",
   "name": "python",
   "nbconvert_exporter": "python",
   "pygments_lexer": "ipython3",
   "version": "3.6.3"
  }
 },
 "nbformat": 4,
 "nbformat_minor": 2
}

{
 "cells": [
  {
   "cell_type": "code",
   "execution_count": 1,
   "metadata": {},
   "outputs": [],
   "source": [
    "import pandas as pd\n",
    "from sklearn.preprocessing import LabelEncoder\n",
    "from sklearn.model_selection import train_test_split\n",
    "from sklearn import svm\n",
    "from sklearn.metrics import accuracy_score\n",
    "from deap import creator, base, tools, algorithms\n",
    "from scoop import futures\n",
    "from sklearn import linear_model, datasets\n",
    "import random\n",
    "import numpy as np\n",
    "from scipy import interpolate\n",
    "from sklearn.linear_model import LogisticRegression\n",
    "# import matplotlib.pyplot as plt"
   ]
  },
  {
   "cell_type": "code",
   "execution_count": 2,
   "metadata": {},
   "outputs": [
    {
     "name": "stdout",
     "output_type": "stream",
     "text": [
      " Label\n",
      "0    5000\n",
      "1    5500\n",
      "2    5500\n",
      "3    5499\n",
      "4    5796\n",
      "dtype: int64\n"
     ]
    }
   ],
   "source": [
    "# Read in data from CSV\n",
    "dfData = pd.read_csv('../data/Wednesday-workingHours-withoutInfinity-Sampled.pcap_ISCX.csv')\n",
    "\n",
    "print(dfData.groupby(' Label').size())"
   ]
  },
  {
   "cell_type": "code",
   "execution_count": 3,
   "metadata": {},
   "outputs": [],
   "source": [
    "# change dfData column order\n",
    "column = list(dfData.columns.values)\n",
    "column.remove(' Destination IP')\n",
    "column.remove(' Timestamp')\n",
    "column.insert(2, ' Destination IP')\n",
    "column.insert(3, ' Timestamp')\n",
    "\n",
    "dfData = dfData[column]"
   ]
  },
  {
   "cell_type": "code",
   "execution_count": 4,
   "metadata": {},
   "outputs": [],
   "source": [
    "# Encode the classification labels to numbers\n",
    "# Get classes and one hot encoded feature vectors\n",
    "le = LabelEncoder()\n",
    "le.fit(dfData[' Label'])\n",
    "allClasses = le.transform(dfData[' Label'])\n",
    "allFeatures_full = dfData.drop([' Label'], axis=1)\n",
    "\n",
    "# omit the first 4 features\n",
    "allFeatures = allFeatures_full.iloc[:,4:]"
   ]
  },
  {
   "cell_type": "code",
   "execution_count": 5,
   "metadata": {},
   "outputs": [],
   "source": [
    "# normalize\n",
    "from sklearn.preprocessing import normalize\n",
    "\n",
    "allFeatures = pd.DataFrame(normalize(allFeatures, axis=1, copy=True, return_norm=False), columns=column[4:-1])"
   ]
  },
  {
   "cell_type": "code",
   "execution_count": 6,
   "metadata": {},
   "outputs": [],
   "source": [
    "# Form training, test, and validation sets\n",
    "X_trainAndTest, X_validation, y_trainAndTest, y_validation = train_test_split(allFeatures, allClasses, test_size=0.20, random_state=42)\n",
    "X_train, X_test, y_train, y_test = train_test_split(X_trainAndTest, y_trainAndTest, test_size=0.20, random_state=42)"
   ]
  },
  {
   "cell_type": "code",
   "execution_count": 7,
   "metadata": {},
   "outputs": [
    {
     "data": {
      "text/plain": [
       "(27295, 80)"
      ]
     },
     "execution_count": 7,
     "metadata": {},
     "output_type": "execute_result"
    }
   ],
   "source": [
    "# import numpy as np\n",
    "np.shape(allFeatures)"
   ]
  },
  {
   "cell_type": "code",
   "execution_count": 8,
   "metadata": {},
   "outputs": [],
   "source": [
    "# Feature subset fitness function\n",
    "def getFitness(individual, X_train, X_test, y_train, y_test):\n",
    "\n",
    "\t# Parse our feature columns that we don't use\n",
    "\t# Apply one hot encoding to the features\n",
    "\tcols = [index for index in range(len(individual)) if individual[index] == 0]\n",
    "# \tprint(type(cols),np.shape(cols))\n",
    "\tX_trainParsed = X_train.drop(X_train.columns[cols], axis=1)\n",
    "\tX_trainOhFeatures = pd.get_dummies(X_trainParsed)\n",
    "# \tprint(X_trainOhFeatures)\n",
    "\tX_testParsed = X_test.drop(X_test.columns[cols], axis=1)\n",
    "\tX_testOhFeatures = pd.get_dummies(X_testParsed)\n",
    "    \n",
    "    # Remove any columns that aren't in both the training and test sets\n",
    "\tsharedFeatures = set(X_trainOhFeatures.columns) & set(X_testOhFeatures.columns)\n",
    "\tremoveFromTrain = set(X_trainOhFeatures.columns) - sharedFeatures\n",
    "\tremoveFromTest = set(X_testOhFeatures.columns) - sharedFeatures\n",
    "\tX_trainOhFeatures = X_trainOhFeatures.drop(list(removeFromTrain), axis=1)\n",
    "\tX_testOhFeatures = X_testOhFeatures.drop(list(removeFromTest), axis=1)\n",
    "    \n",
    "# \tprint(np.shape(X_trainOhFeatures), np.shape(X_testOhFeatures))\n",
    "\n",
    "\t# Apply logistic regression on the data, and calculate accuracy\n",
    "\tclf = LogisticRegression()\n",
    "# \tclf = svm.SVC()\n",
    "\tclf.fit(X_trainOhFeatures, y_train)\n",
    "\tpredictions = clf.predict(X_testOhFeatures)\n",
    "\taccuracy = accuracy_score(y_test, predictions)\n",
    "\n",
    "\t# Return calculated accuracy as fitness\n",
    "\treturn (accuracy,)\n"
   ]
  },
  {
   "cell_type": "code",
   "execution_count": 9,
   "metadata": {},
   "outputs": [],
   "source": [
    "#========DEAP GLOBAL VARIABLES (viewable by SCOOP)========\n",
    "\n",
    "# Create Individual\n",
    "creator.create(\"FitnessMax\", base.Fitness, weights=(1.0,))\n",
    "creator.create(\"Individual\", list, fitness=creator.FitnessMax)\n",
    "\n",
    "# Create Toolbox\n",
    "toolbox = base.Toolbox()\n",
    "toolbox.register(\"attr_bool\", random.randint, 0, 1)\n",
    "toolbox.register(\"individual\", tools.initRepeat, creator.Individual, toolbox.attr_bool, len(allFeatures.columns) - 1)\n",
    "toolbox.register(\"population\", tools.initRepeat, list, toolbox.individual)\n",
    "\n",
    "# Continue filling toolbox...\n",
    "toolbox.register(\"evaluate\", getFitness, X_train=X_train, X_test=X_test, y_train=y_train, y_test=y_test)\n",
    "toolbox.register(\"mate\", tools.cxOnePoint)\n",
    "toolbox.register(\"mutate\", tools.mutFlipBit, indpb=0.05)\n",
    "toolbox.register(\"select\", tools.selTournament, tournsize=3)\n"
   ]
  },
  {
   "cell_type": "code",
   "execution_count": 10,
   "metadata": {},
   "outputs": [],
   "source": [
    "def getHof():\n",
    "\n",
    "\t# Initialize variables to use eaSimple\n",
    "\tnumPop = 200\n",
    "\tnumGen = 30\n",
    "\tpop = toolbox.population(n=numPop)\n",
    "\thof = tools.HallOfFame(numPop * numGen)\n",
    "\tstats = tools.Statistics(lambda ind: ind.fitness.values)\n",
    "\tstats.register(\"avg\", np.mean)\n",
    "\tstats.register(\"std\", np.std)\n",
    "\tstats.register(\"min\", np.min)\n",
    "\tstats.register(\"max\", np.max)\n",
    "\n",
    "\t# Launch genetic algorithm\n",
    "\tpop, log = algorithms.eaSimple(pop, toolbox, cxpb=0.5, mutpb=0.2, ngen=numGen, stats=stats, halloffame=hof, verbose=True)\n",
    "\n",
    "\t# Return the hall of fame\n",
    "\treturn hof\n"
   ]
  },
  {
   "cell_type": "code",
   "execution_count": 11,
   "metadata": {},
   "outputs": [],
   "source": [
    "def getMetrics(hof):\n",
    "\n",
    "\t# Get list of percentiles in the hall of fame\n",
    "\tpercentileList = [i / (len(hof) - 1) for i in range(len(hof))]\n",
    "\t\n",
    "\t# Gather fitness data from each percentile\n",
    "\ttestAccuracyList = []\n",
    "\tvalidationAccuracyList = []\n",
    "\tindividualList = []\n",
    "\tfor individual in hof:\n",
    "\t\ttestAccuracy = individual.fitness.values\n",
    "\t\tvalidationAccuracy = getFitness(individual, X_trainAndTest, X_validation, y_trainAndTest, y_validation)\n",
    "\t\ttestAccuracyList.append(testAccuracy[0])\n",
    "\t\tvalidationAccuracyList.append(validationAccuracy[0])\n",
    "\t\tindividualList.append(individual)\n",
    "\ttestAccuracyList.reverse()\n",
    "\tvalidationAccuracyList.reverse()\n",
    "\treturn testAccuracyList, validationAccuracyList, individualList, percentileList\n"
   ]
  },
  {
   "cell_type": "code",
   "execution_count": 12,
   "metadata": {},
   "outputs": [],
   "source": [
    "# X_train = X_train[:6400]\n",
    "# X_test = X_test[:1600]\n",
    "# y_train = y_train[:6400]\n",
    "# y_test = y_test[:1600]\n",
    "# X_trainAndTest = X_trainAndTest[:8000]\n",
    "# X_validation = X_validation[:2000]\n",
    "# y_trainAndTest = y_trainAndTest[:8000]\n",
    "# y_validation = y_validation[:2000]"
   ]
  },
  {
   "cell_type": "code",
   "execution_count": 13,
   "metadata": {},
   "outputs": [
    {
     "data": {
      "text/plain": [
       "(4368, 80)"
      ]
     },
     "execution_count": 13,
     "metadata": {},
     "output_type": "execute_result"
    }
   ],
   "source": [
    "np.shape(X_test)"
   ]
  },
  {
   "cell_type": "code",
   "execution_count": 14,
   "metadata": {},
   "outputs": [
    {
     "name": "stdout",
     "output_type": "stream",
     "text": [
      "\n",
      "Test accuracy with all features: \t0.8802655677655677\n",
      "Validation accuracy with all features: \t0.8703059168345851\n",
      "\n"
     ]
    }
   ],
   "source": [
    "'''\n",
    "\tFirst, we will apply logistic regression using all the features to acquire a baseline accuracy.\n",
    "'''\n",
    "\n",
    "individual = [1 for i in range(len(allFeatures.columns))]\n",
    "testAccuracy = getFitness(individual, X_train, X_test, y_train, y_test)\n",
    "validationAccuracy = getFitness(individual, X_trainAndTest, X_validation, y_trainAndTest, y_validation)\n",
    "print('\\nTest accuracy with all features: \\t' + str(testAccuracy[0]))\n",
    "print('Validation accuracy with all features: \\t' + str(validationAccuracy[0]) + '\\n')"
   ]
  },
  {
   "cell_type": "code",
   "execution_count": 15,
   "metadata": {},
   "outputs": [],
   "source": [
    "# cols"
   ]
  },
  {
   "cell_type": "code",
   "execution_count": 16,
   "metadata": {},
   "outputs": [
    {
     "name": "stdout",
     "output_type": "stream",
     "text": [
      "gen\tnevals\tavg     \tstd      \tmin     \tmax     \n",
      "0  \t200   \t0.793077\t0.0481776\t0.625916\t0.875687\n",
      "1  \t126   \t0.832637\t0.029547 \t0.747482\t0.878892\n",
      "2  \t128   \t0.852661\t0.0209566\t0.748626\t0.878892\n",
      "3  \t125   \t0.86458 \t0.0143863\t0.788233\t0.87935 \n",
      "4  \t117   \t0.870032\t0.0144073\t0.790064\t0.87935 \n",
      "5  \t116   \t0.874168\t0.0103837\t0.81685 \t0.880037\n",
      "6  \t120   \t0.873669\t0.0129969\t0.798535\t0.880495\n",
      "7  \t127   \t0.876329\t0.00851623\t0.826694\t0.882326\n",
      "8  \t123   \t0.876915\t0.00907954\t0.800366\t0.882555\n",
      "9  \t110   \t0.87808 \t0.00830592\t0.826007\t0.882555\n",
      "10 \t110   \t0.879117\t0.00830689\t0.807692\t0.882555\n",
      "11 \t125   \t0.879033\t0.00867999\t0.83196 \t0.882784\n",
      "12 \t105   \t0.8802  \t0.00609333\t0.832647\t0.883471\n",
      "13 \t128   \t0.880277\t0.00714776\t0.838828\t0.883471\n",
      "14 \t104   \t0.881652\t0.00415957\t0.849588\t0.883471\n",
      "15 \t111   \t0.881947\t0.00360143\t0.85783 \t0.883471\n",
      "16 \t109   \t0.881137\t0.00617036\t0.847985\t0.883929\n",
      "17 \t135   \t0.882104\t0.00482059\t0.836996\t0.883929\n",
      "18 \t126   \t0.882161\t0.00459339\t0.850962\t0.883929\n",
      "19 \t108   \t0.88239 \t0.00416573\t0.85554 \t0.883929\n",
      "20 \t127   \t0.882944\t0.00304582\t0.858059\t0.883929\n",
      "21 \t115   \t0.882707\t0.00497002\t0.83196 \t0.883929\n",
      "22 \t124   \t0.883011\t0.00408723\t0.845696\t0.883929\n",
      "23 \t106   \t0.882107\t0.00645557\t0.841804\t0.883929\n",
      "24 \t109   \t0.88262 \t0.0067557 \t0.819368\t0.883929\n",
      "25 \t107   \t0.882095\t0.00807381\t0.809295\t0.883929\n",
      "26 \t126   \t0.882993\t0.0037846 \t0.857601\t0.883929\n",
      "27 \t117   \t0.882254\t0.00645217\t0.845696\t0.883929\n",
      "28 \t109   \t0.883318\t0.00234259\t0.865842\t0.883929\n",
      "29 \t111   \t0.882584\t0.0060485 \t0.81891 \t0.883929\n",
      "30 \t121   \t0.882727\t0.00478654\t0.84272 \t0.883929\n"
     ]
    }
   ],
   "source": [
    "'''\n",
    "\tNow, we will apply a genetic algorithm to choose a subset of features that gives a better accuracy than the baseline.\n",
    "'''\n",
    "hof = getHof()\n",
    "testAccuracyList, validationAccuracyList, individualList, percentileList = getMetrics(hof)"
   ]
  },
  {
   "cell_type": "code",
   "execution_count": 17,
   "metadata": {},
   "outputs": [],
   "source": [
    "# Get a list of subsets that performed best on validation data\n",
    "maxValAccSubsetIndicies = [index for index in range(len(validationAccuracyList)) if validationAccuracyList[index] == max(validationAccuracyList)]\n",
    "maxValIndividuals = [individualList[index] for index in maxValAccSubsetIndicies]\n",
    "maxValSubsets = [[list(allFeatures)[index] for index in range(len(individual)) if individual[index] == 1] for individual in maxValIndividuals]\n"
   ]
  },
  {
   "cell_type": "code",
   "execution_count": 18,
   "metadata": {},
   "outputs": [
    {
     "name": "stdout",
     "output_type": "stream",
     "text": [
      "\n",
      "---Optimal Feature Subset(s)---\n",
      "\n",
      "Percentile: \t\t\t0.5164099129269927\n",
      "Validation Accuracy: \t\t0.8750686938999817\n",
      "Individual: \t[1, 1, 0, 1, 0, 0, 1, 1, 0, 0, 0, 0, 1, 1, 0, 0, 1, 0, 1, 1, 1, 1, 1, 1, 1, 0, 1, 1, 1, 1, 0, 1, 1, 1, 1, 0, 1, 0, 0, 1, 0, 0, 1, 0, 0, 0, 0, 0, 0, 1, 0, 0, 0, 1, 0, 1, 0, 1, 1, 1, 0, 1, 0, 1, 1, 1, 0, 0, 1, 0, 1, 0, 0, 1, 0, 1, 0, 0, 1]\n",
      "Number Features In Subset: \t41\n",
      "Feature Subset: [' Source Port', ' Destination Port', ' Flow Duration', 'Total Length of Fwd Packets', ' Total Length of Bwd Packets', 'Bwd Packet Length Max', ' Bwd Packet Length Min', 'Flow Bytes/s', ' Flow IAT Mean', ' Flow IAT Std', ' Flow IAT Max', ' Flow IAT Min', 'Fwd IAT Total', ' Fwd IAT Mean', ' Fwd IAT Std', ' Fwd IAT Min', 'Bwd IAT Total', ' Bwd IAT Mean', ' Bwd IAT Std', ' Bwd IAT Min', 'Fwd PSH Flags', ' Bwd PSH Flags', ' Fwd URG Flags', ' Fwd Header Length', ' Bwd Packets/s', ' Packet Length Mean', ' ACK Flag Count', ' Down/Up Ratio', ' Avg Fwd Segment Size', ' Fwd Header Length.1', 'Fwd Avg Bytes/Bulk', ' Fwd Avg Packets/Bulk', ' Bwd Avg Bytes/Bulk', 'Bwd Avg Bulk Rate', 'Subflow Fwd Packets', ' Subflow Fwd Bytes', 'Init_Win_bytes_forward', ' act_data_pkt_fwd', ' Active Std', ' Active Min', ' Idle Max']\n"
     ]
    }
   ],
   "source": [
    "print('\\n---Optimal Feature Subset(s)---\\n')\n",
    "for index in range(len(maxValAccSubsetIndicies)):\n",
    "    print('Percentile: \\t\\t\\t' + str(percentileList[maxValAccSubsetIndicies[index]]))\n",
    "    print('Validation Accuracy: \\t\\t' + str(validationAccuracyList[maxValAccSubsetIndicies[index]]))\n",
    "    print('Individual: \\t' + str(maxValIndividuals[index]))\n",
    "    print('Number Features In Subset: \\t' + str(len(maxValSubsets[index])))\n",
    "    print('Feature Subset: ' + str(maxValSubsets[index]))\n"
   ]
  },
  {
   "cell_type": "code",
   "execution_count": 25,
   "metadata": {},
   "outputs": [
    {
     "data": {
      "text/plain": [
       "Text(0,0.5,'Test Set Accuracy')"
      ]
     },
     "execution_count": 25,
     "metadata": {},
     "output_type": "execute_result"
    },
    {
     "data": {
      "image/png": "[encoded data removed]",
      "text/plain": [
       "<Figure size 432x288 with 1 Axes>"
      ]
     },
     "metadata": {},
     "output_type": "display_data"
    },
    {
     "data": {
      "image/png": "[encoded data removed]",
      "text/plain": [
       "<Figure size 432x288 with 1 Axes>"
      ]
     },
     "metadata": {},
     "output_type": "display_data"
    },
    {
     "data": {
      "image/png": "[encoded data removed]",
      "text/plain": [
       "<Figure size 432x288 with 1 Axes>"
      ]
     },
     "metadata": {},
     "output_type": "display_data"
    }
   ],
   "source": [
    "import matplotlib.pyplot as plt\n",
    "\n",
    "'''\n",
    "\tNow, we plot the test and validation classification accuracy to see how these numbers change as we move from our worst feature subsets to the \n",
    "\tbest feature subsets found by the genetic algorithm.\n",
    "'''\n",
    "\n",
    "# Calculate best fit line for validation classification accuracy (non-linear)\n",
    "tck = interpolate.splrep(percentileList, validationAccuracyList, s=5.0)\n",
    "ynew = interpolate.splev(percentileList, tck)\n",
    "\n",
    "e = plt.figure(1)\n",
    "plt.plot(percentileList, validationAccuracyList, marker='o', color='r')\n",
    "plt.plot(percentileList, ynew, color='b')\n",
    "plt.title('Validation Set Classification Accuracy vs. \\n Continuum with Cubic-Spline Interpolation')\n",
    "plt.xlabel('Population Ordered By Increasing Test Set Accuracy')\n",
    "plt.ylabel('Validation Set Accuracy')\n",
    "# e.show()\n",
    "\n",
    "f = plt.figure(2)\n",
    "plt.scatter(percentileList, validationAccuracyList)\n",
    "plt.title('Validation Set Classification Accuracy vs. Continuum')\n",
    "plt.xlabel('Population Ordered By Increasing Test Set Accuracy')\n",
    "plt.ylabel('Validation Set Accuracy')\n",
    "# f.show()\n",
    "\n",
    "g = plt.figure(3)\n",
    "plt.scatter(percentileList, testAccuracyList)\n",
    "plt.title('Test Set Classification Accuracy vs. Continuum')\n",
    "plt.xlabel('Population Ordered By Increasing Test Set Accuracy')\n",
    "plt.ylabel('Test Set Accuracy')\n",
    "# g.show()\n",
    "\n",
    "# input()"
   ]
  },
  {
   "cell_type": "code",
   "execution_count": 20,
   "metadata": {},
   "outputs": [],
   "source": [
    "import pandas as pd\n",
    "\n",
    "df_testAccuracyList = pd.DataFrame(testAccuracyList, columns=[\"testAccuracy\"])\n",
    "df_testAccuracyList.to_csv('testAccuracyList.csv', index=False)\n",
    "\n",
    "df_validationAccuracyList = pd.DataFrame(validationAccuracyList, columns=[\"validationAccuracy\"])\n",
    "df_validationAccuracyList.to_csv('validationAccuracyList.csv', index=False)\n",
    "\n",
    "individualList = np.asarray(individualList)\n",
    "df_individualList = pd.DataFrame(individualList)\n",
    "df_individualList.to_csv('individualList.csv', index=False)\n",
    "df_individualList['sum'] = df_individualList.sum(axis=1)\n",
    "\n",
    "df_percentileList = pd.DataFrame(percentileList, columns=[\"percentile\"])\n",
    "df_percentileList.to_csv('percentileList.csv', index=False)\n"
   ]
  },
  {
   "cell_type": "code",
   "execution_count": 21,
   "metadata": {},
   "outputs": [
    {
     "data": {
      "text/plain": [
       "array([29, 30, 31, 32, 33, 34, 35, 36, 37, 38, 39, 40, 41, 42, 43, 44, 45,\n",
       "       46, 47, 48, 49, 50, 51, 52, 53, 54, 55, 56])"
      ]
     },
     "execution_count": 21,
     "metadata": {},
     "output_type": "execute_result"
    }
   ],
   "source": [
    "np.unique(df_individualList['sum'])"
   ]
  },
  {
   "cell_type": "code",
   "execution_count": 22,
   "metadata": {},
   "outputs": [],
   "source": [
    "# df_individualList.where(df_individualList['sum']==27)\n",
    "from collections import defaultdict\n",
    "index_where = defaultdict(list)\n",
    "# [index_where for index in range(len(df_individualList)) if df_individualList['sum'][:,index]==27]"
   ]
  },
  {
   "cell_type": "code",
   "execution_count": 23,
   "metadata": {},
   "outputs": [],
   "source": [
    "for i in range (len(df_individualList)):\n",
    "    index_where[(df_individualList['sum'][i])].append(i)"
   ]
  },
  {
   "cell_type": "code",
   "execution_count": 39,
   "metadata": {},
   "outputs": [],
   "source": [
    "from collections import OrderedDict\n",
    "\n",
    "valAccList = defaultdict(list)\n",
    "for item in index_where:\n",
    "#     print(item)\n",
    "    valAcc = np.max(df_validationAccuracyList.iloc[index_where[item]])[0]\n",
    "    valAccList[item].append(valAcc)\n",
    "    \n",
    "valAccList = OrderedDict(sorted(valAccList.items()))"
   ]
  },
  {
   "cell_type": "code",
   "execution_count": 45,
   "metadata": {},
   "outputs": [
    {
     "data": {
      "image/png": "[encoded data removed]",
      "text/plain": [
       "<Figure size 432x288 with 1 Axes>"
      ]
     },
     "metadata": {},
     "output_type": "display_data"
    }
   ],
   "source": [
    "g = plt.figure(4)\n",
    "plt.plot(list(valAccList.keys())[1:], list(valAccList.values())[1:], color='r')\n",
    "plt.title('MAX(Validation Set Classification Accuracy) curve')\n",
    "plt.xlabel('# of features chosen')\n",
    "plt.ylabel('Validation Set Accuracy')\n",
    "plt.grid()"
   ]
  },
  {
   "cell_type": "code",
   "execution_count": 43,
   "metadata": {},
   "outputs": [],
   "source": [
    "from collections import OrderedDict\n",
    "\n",
    "valAccList_mean = defaultdict(list)\n",
    "for item in index_where:\n",
    "#     print(item)\n",
    "    valAcc_mean = np.mean(df_validationAccuracyList.iloc[index_where[item]])[0]\n",
    "    valAccList_mean[item].append(valAcc_mean)\n",
    "    \n",
    "valAccList_mean = OrderedDict(sorted(valAccList_mean.items()))"
   ]
  },
  {
   "cell_type": "code",
   "execution_count": 48,
   "metadata": {},
   "outputs": [
    {
     "data": {
      "image/png": "[encoded data removed]",
      "text/plain": [
       "<Figure size 432x288 with 1 Axes>"
      ]
     },
     "metadata": {},
     "output_type": "display_data"
    }
   ],
   "source": [
    "g = plt.figure(5)\n",
    "plt.plot(list(valAccList_mean.keys())[1:], list(valAccList_mean.values())[1:])\n",
    "plt.title('MEAN(Validation Set Classification Accuracy) curve')\n",
    "plt.xlabel('# of features chosen')\n",
    "plt.ylabel('Validation Set Accuracy')\n",
    "plt.grid()"
   ]
  },
  {
   "cell_type": "code",
   "execution_count": null,
   "metadata": {},
   "outputs": [],
   "source": []
  }
 ],
 "metadata": {
  "kernelspec": {
   "display_name": "Python 3",
   "language": "python",
   "name": "python3"
  },
  "language_info": {
   "codemirror_mode": {
    "name": "ipython",
    "version": 3
   },
   "file_extension": ".py",
   "mimetype": "text/x-python",
   "name": "python",
   "nbconvert_exporter": "python",
   "pygments_lexer": "ipython3",
   "version": "3.6.3"
  }
 },
 "nbformat": 4,
 "nbformat_minor": 2
}

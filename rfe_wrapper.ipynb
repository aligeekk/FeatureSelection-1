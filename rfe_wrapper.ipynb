{
 "cells": [
  {
   "cell_type": "code",
   "execution_count": 1,
   "metadata": {},
   "outputs": [],
   "source": [
    "import pandas as pd\n",
    "from sklearn.preprocessing import LabelEncoder\n",
    "from sklearn.model_selection import train_test_split\n",
    "from sklearn.linear_model import LogisticRegression\n",
    "from sklearn.metrics import accuracy_score\n",
    "from deap import creator, base, tools, algorithms\n",
    "from scoop import futures\n",
    "import random\n",
    "import numpy as np\n",
    "from scipy import interpolate\n",
    "# import matplotlib.pyplot as plt\n",
    "\n"
   ]
  },
  {
   "cell_type": "code",
   "execution_count": 2,
   "metadata": {},
   "outputs": [
    {
     "name": "stdout",
     "output_type": "stream",
     "text": [
      " Label\n",
      "0    5000\n",
      "1    5500\n",
      "2    5500\n",
      "3    5499\n",
      "4    5796\n",
      "dtype: int64\n"
     ]
    }
   ],
   "source": [
    "# Read in data from CSV\n",
    "dfData = pd.read_csv('../data/Wednesday-workingHours-withoutInfinity-Sampled.pcap_ISCX.csv')\n",
    "\n",
    "print(dfData.groupby(' Label').size())"
   ]
  },
  {
   "cell_type": "code",
   "execution_count": 3,
   "metadata": {},
   "outputs": [],
   "source": [
    "# change dfData column order\n",
    "column = list(dfData.columns.values)\n",
    "column.remove(' Destination IP')\n",
    "column.remove(' Timestamp')\n",
    "column.insert(2, ' Destination IP')\n",
    "column.insert(3, ' Timestamp')\n",
    "\n",
    "dfData = dfData[column]"
   ]
  },
  {
   "cell_type": "code",
   "execution_count": 4,
   "metadata": {},
   "outputs": [],
   "source": [
    "# Encode the classification labels to numbers\n",
    "# Get classes and one hot encoded feature vectors\n",
    "le = LabelEncoder()\n",
    "le.fit(dfData[' Label'])\n",
    "allClasses = le.transform(dfData[' Label'])\n",
    "allFeatures_full = dfData.drop([' Label'], axis=1)\n",
    "\n",
    "# omit the first 4 features\n",
    "allFeatures = allFeatures_full.iloc[:,4:]"
   ]
  },
  {
   "cell_type": "code",
   "execution_count": 5,
   "metadata": {},
   "outputs": [],
   "source": [
    "# normalize\n",
    "from sklearn.preprocessing import normalize\n",
    "\n",
    "allFeatures = pd.DataFrame(normalize(allFeatures, axis=1, copy=True, return_norm=False), columns=column[4:-1])"
   ]
  },
  {
   "cell_type": "code",
   "execution_count": 6,
   "metadata": {},
   "outputs": [],
   "source": [
    "## every value goes up by 1, due to the chi2 condition\n",
    "allFeatures += 1"
   ]
  },
  {
   "cell_type": "code",
   "execution_count": 7,
   "metadata": {},
   "outputs": [],
   "source": [
    "# Form training, test, and validation sets\n",
    "X_trainAndTest, X_validation, y_trainAndTest, y_validation = train_test_split(allFeatures, allClasses, test_size=0.20, random_state=42)\n",
    "X_train, X_test, y_train, y_test = train_test_split(X_trainAndTest, y_trainAndTest, test_size=0.20, random_state=42)"
   ]
  },
  {
   "cell_type": "code",
   "execution_count": 8,
   "metadata": {},
   "outputs": [
    {
     "name": "stdout",
     "output_type": "stream",
     "text": [
      "Training score: 0.8660980077856653\n"
     ]
    }
   ],
   "source": [
    "# original lr\n",
    "from sklearn import svm\n",
    "from sklearn import metrics\n",
    "from sklearn.linear_model import LogisticRegression\n",
    "\n",
    "# clf_svm = svm.SVC()\n",
    "# clf_svm.fit(X_train, y_train)\n",
    "\n",
    "# y_pred = clf_svm.predict(X_train)\n",
    "# acc = metrics.accuracy_score(y_train, y_pred)\n",
    "# print(\"Training score: {}\".format(acc))\n",
    "\n",
    "clf_svm = LogisticRegression()\n",
    "clf_svm.fit(X_train, y_train)\n",
    "\n",
    "y_pred = clf_svm.predict(X_train)\n",
    "acc = metrics.accuracy_score(y_train, y_pred)\n",
    "print(\"Training score: {}\".format(acc))"
   ]
  },
  {
   "cell_type": "code",
   "execution_count": 9,
   "metadata": {},
   "outputs": [
    {
     "name": "stdout",
     "output_type": "stream",
     "text": [
      "Validation score: 0.8670086096354643\n"
     ]
    }
   ],
   "source": [
    "y_pred = clf_svm.predict(X_validation)\n",
    "acc = metrics.accuracy_score(y_validation, y_pred)\n",
    "print(\"Validation score: {}\".format(acc))"
   ]
  },
  {
   "cell_type": "code",
   "execution_count": 11,
   "metadata": {},
   "outputs": [],
   "source": [
    "# go through all possible # of features\n",
    "k = [index for index in range(80,0,-1)]\n",
    "\n",
    "from collections import defaultdict\n",
    "test_acc = defaultdict(list)\n",
    "train_acc = defaultdict(list)\n",
    "val_acc = defaultdict(list)"
   ]
  },
  {
   "cell_type": "code",
   "execution_count": 12,
   "metadata": {},
   "outputs": [
    {
     "name": "stdout",
     "output_type": "stream",
     "text": [
      "# of features selected:  80\n",
      "________________________________________\n",
      "# of features selected:  79\n",
      "________________________________________\n",
      "# of features selected:  78\n",
      "________________________________________\n",
      "# of features selected:  77\n",
      "________________________________________\n",
      "# of features selected:  76\n",
      "________________________________________\n",
      "# of features selected:  75\n",
      "________________________________________\n",
      "# of features selected:  74\n",
      "________________________________________\n",
      "# of features selected:  73\n",
      "________________________________________\n",
      "# of features selected:  72\n",
      "________________________________________\n",
      "# of features selected:  71\n",
      "________________________________________\n",
      "# of features selected:  70\n",
      "________________________________________\n",
      "# of features selected:  69\n",
      "________________________________________\n",
      "# of features selected:  68\n",
      "________________________________________\n",
      "# of features selected:  67\n",
      "________________________________________\n",
      "# of features selected:  66\n",
      "________________________________________\n",
      "# of features selected:  65\n",
      "________________________________________\n",
      "# of features selected:  64\n",
      "________________________________________\n",
      "# of features selected:  63\n",
      "________________________________________\n",
      "# of features selected:  62\n",
      "________________________________________\n",
      "# of features selected:  61\n",
      "________________________________________\n",
      "# of features selected:  60\n",
      "________________________________________\n",
      "# of features selected:  59\n",
      "________________________________________\n",
      "# of features selected:  58\n",
      "________________________________________\n",
      "# of features selected:  57\n",
      "________________________________________\n",
      "# of features selected:  56\n",
      "________________________________________\n",
      "# of features selected:  55\n",
      "________________________________________\n",
      "# of features selected:  54\n",
      "________________________________________\n",
      "# of features selected:  53\n",
      "________________________________________\n",
      "# of features selected:  52\n",
      "________________________________________\n",
      "# of features selected:  51\n",
      "________________________________________\n",
      "# of features selected:  50\n",
      "________________________________________\n",
      "# of features selected:  49\n",
      "________________________________________\n",
      "# of features selected:  48\n",
      "________________________________________\n",
      "# of features selected:  47\n",
      "________________________________________\n",
      "# of features selected:  46\n",
      "________________________________________\n",
      "# of features selected:  45\n",
      "________________________________________\n",
      "# of features selected:  44\n",
      "________________________________________\n",
      "# of features selected:  43\n",
      "________________________________________\n",
      "# of features selected:  42\n",
      "________________________________________\n",
      "# of features selected:  41\n",
      "________________________________________\n",
      "# of features selected:  40\n",
      "________________________________________\n",
      "# of features selected:  39\n",
      "________________________________________\n",
      "# of features selected:  38\n",
      "________________________________________\n",
      "# of features selected:  37\n",
      "________________________________________\n",
      "# of features selected:  36\n",
      "________________________________________\n",
      "# of features selected:  35\n",
      "________________________________________\n",
      "# of features selected:  34\n",
      "________________________________________\n",
      "# of features selected:  33\n",
      "________________________________________\n",
      "# of features selected:  32\n",
      "________________________________________\n",
      "# of features selected:  31\n",
      "________________________________________\n",
      "# of features selected:  30\n",
      "________________________________________\n",
      "# of features selected:  29\n",
      "________________________________________\n",
      "# of features selected:  28\n",
      "________________________________________\n",
      "# of features selected:  27\n",
      "________________________________________\n",
      "# of features selected:  26\n",
      "________________________________________\n",
      "# of features selected:  25\n",
      "________________________________________\n",
      "# of features selected:  24\n",
      "________________________________________\n",
      "# of features selected:  23\n",
      "________________________________________\n",
      "# of features selected:  22\n",
      "________________________________________\n",
      "# of features selected:  21\n",
      "________________________________________\n",
      "# of features selected:  20\n",
      "________________________________________\n",
      "# of features selected:  19\n",
      "________________________________________\n",
      "# of features selected:  18\n",
      "________________________________________\n",
      "# of features selected:  17\n",
      "________________________________________\n",
      "# of features selected:  16\n",
      "________________________________________\n",
      "# of features selected:  15\n",
      "________________________________________\n",
      "# of features selected:  14\n",
      "________________________________________\n",
      "# of features selected:  13\n",
      "________________________________________\n",
      "# of features selected:  12\n",
      "________________________________________\n",
      "# of features selected:  11\n",
      "________________________________________\n",
      "# of features selected:  10\n",
      "________________________________________\n",
      "# of features selected:  9\n",
      "________________________________________\n",
      "# of features selected:  8\n",
      "________________________________________\n",
      "# of features selected:  7\n",
      "________________________________________\n",
      "# of features selected:  6\n",
      "________________________________________\n",
      "# of features selected:  5\n",
      "________________________________________\n",
      "# of features selected:  4\n",
      "________________________________________\n",
      "# of features selected:  3\n",
      "________________________________________\n",
      "# of features selected:  2\n",
      "________________________________________\n",
      "# of features selected:  1\n",
      "________________________________________\n"
     ]
    }
   ],
   "source": [
    "from sklearn.feature_selection import RFE\n",
    "\n",
    "for item in k:\n",
    "    \n",
    "    print(\"# of features selected: \", item)\n",
    "    rfe = RFE(estimator=LogisticRegression(), n_features_to_select=item)\n",
    "    rfe.fit(X_train,y_train)\n",
    "\n",
    "    train_acc[item].append(rfe.score(X_train, y_train)) \n",
    "    test_acc[item].append(rfe.score(X_test,y_test)) \n",
    "    val_acc[item].append(rfe.score(X_validation,y_validation))\n",
    "#     print(\"these features are:\")\n",
    "#     names_features = rfe.get_support(True)\n",
    "#     for item in (names_features):\n",
    "#         print(column[item])\n",
    "    \n",
    "    print(\"________________________________________\")\n",
    "    "
   ]
  },
  {
   "cell_type": "code",
   "execution_count": 13,
   "metadata": {},
   "outputs": [],
   "source": [
    "df_testAccuracyList = pd.DataFrame(test_acc, columns=[\"testAccuracy\"])\n",
    "df_testAccuracyList.to_csv('./wrapper_rfe_results/testAccuracyList.csv', index=False)\n",
    "\n",
    "df_validationAccuracyList = pd.DataFrame(val_acc, columns=[\"validationAccuracy\"])\n",
    "df_validationAccuracyList.to_csv('./wrapper_rfe_results/validationAccuracyList.csv', index=False)\n",
    "\n",
    "df_validationAccuracyList = pd.DataFrame(train_acc, columns=[\"trainAccuracy\"])\n",
    "df_validationAccuracyList.to_csv('./wrapper_rfe_results/trainAccuracyList.csv', index=False)"
   ]
  },
  {
   "cell_type": "code",
   "execution_count": 19,
   "metadata": {},
   "outputs": [],
   "source": [
    "features_num = list(val_acc.keys())\n",
    "features_val = list(val_acc.values())"
   ]
  },
  {
   "cell_type": "code",
   "execution_count": 23,
   "metadata": {},
   "outputs": [
    {
     "data": {
      "image/png": "[encoded data removed]",
      "text/plain": [
       "<Figure size 432x288 with 1 Axes>"
      ]
     },
     "metadata": {},
     "output_type": "display_data"
    }
   ],
   "source": [
    "import matplotlib.pyplot as plt\n",
    "\n",
    "g = plt.figure(5)\n",
    "plt.plot(features_num, features_val)\n",
    "plt.title('Validation Set Classification Accuracy curve')\n",
    "plt.xlabel('# of features chosen')\n",
    "plt.ylabel('Validation Set Accuracy')\n",
    "plt.grid()"
   ]
  },
  {
   "cell_type": "code",
   "execution_count": 27,
   "metadata": {},
   "outputs": [
    {
     "data": {
      "text/plain": [
       "0.8682908957684558"
      ]
     },
     "execution_count": 27,
     "metadata": {},
     "output_type": "execute_result"
    }
   ],
   "source": [
    "np.max(features_val)"
   ]
  },
  {
   "cell_type": "code",
   "execution_count": 26,
   "metadata": {},
   "outputs": [
    {
     "data": {
      "text/plain": [
       "[[0.8670086096354643],\n",
       " [0.8673749771020334],\n",
       " [0.8670086096354643],\n",
       " [0.8671917933687489],\n",
       " [0.8671917933687489],\n",
       " [0.8671917933687489],\n",
       " [0.8671917933687489],\n",
       " [0.8671917933687489],\n",
       " [0.8671917933687489],\n",
       " [0.8671917933687489],\n",
       " [0.8671917933687489],\n",
       " [0.8671917933687489],\n",
       " [0.8671917933687489],\n",
       " [0.8673749771020334],\n",
       " [0.8673749771020334],\n",
       " [0.8673749771020334],\n",
       " [0.8671917933687489],\n",
       " [0.8671917933687489],\n",
       " [0.8671917933687489],\n",
       " [0.8673749771020334],\n",
       " [0.8673749771020334],\n",
       " [0.8673749771020334],\n",
       " [0.8675581608353178],\n",
       " [0.8673749771020334],\n",
       " [0.8673749771020334],\n",
       " [0.8673749771020334],\n",
       " [0.8673749771020334],\n",
       " [0.8673749771020334],\n",
       " [0.8673749771020334],\n",
       " [0.8673749771020334],\n",
       " [0.8671917933687489],\n",
       " [0.8671917933687489],\n",
       " [0.8671917933687489],\n",
       " [0.8671917933687489],\n",
       " [0.8671917933687489],\n",
       " [0.8671917933687489],\n",
       " [0.8673749771020334],\n",
       " [0.8671917933687489],\n",
       " [0.8671917933687489],\n",
       " [0.8670086096354643],\n",
       " [0.8670086096354643],\n",
       " [0.8670086096354643],\n",
       " [0.8668254259021799],\n",
       " [0.8668254259021799],\n",
       " [0.8668254259021799],\n",
       " [0.8668254259021799],\n",
       " [0.8668254259021799],\n",
       " [0.8666422421688954],\n",
       " [0.8664590584356109],\n",
       " [0.8682908957684558],\n",
       " [0.8640776699029126],\n",
       " [0.8638944861696282],\n",
       " [0.8637113024363436],\n",
       " [0.8492397875068693],\n",
       " [0.8494229712401539],\n",
       " [0.8490566037735849],\n",
       " [0.848323868840447],\n",
       " [0.8169994504488002],\n",
       " [0.8171826341820846],\n",
       " [0.8169994504488002],\n",
       " [0.817732185381938],\n",
       " [0.8175490016486536],\n",
       " [0.8173658179153691],\n",
       " [0.818831287781645],\n",
       " [0.8168162667155157],\n",
       " [0.8162667155156622],\n",
       " [0.8164498992489467],\n",
       " [0.7777981315259205],\n",
       " [0.7759662941930756],\n",
       " [0.7755999267265067],\n",
       " [0.7792636013921964],\n",
       " [0.778714050192343],\n",
       " [0.7646089027294376],\n",
       " [0.7536178787323685],\n",
       " [0.7211943579410148],\n",
       " [0.654698662758747],\n",
       " [0.48104048360505586],\n",
       " [0.4350613665506503],\n",
       " [0.4128961348232277],\n",
       " [0.3075654881846492]]"
      ]
     },
     "execution_count": 26,
     "metadata": {},
     "output_type": "execute_result"
    }
   ],
   "source": [
    "features_val"
   ]
  },
  {
   "cell_type": "code",
   "execution_count": null,
   "metadata": {},
   "outputs": [],
   "source": []
  }
 ],
 "metadata": {
  "kernelspec": {
   "display_name": "Python 3",
   "language": "python",
   "name": "python3"
  },
  "language_info": {
   "codemirror_mode": {
    "name": "ipython",
    "version": 3
   },
   "file_extension": ".py",
   "mimetype": "text/x-python",
   "name": "python",
   "nbconvert_exporter": "python",
   "pygments_lexer": "ipython3",
   "version": "3.6.3"
  }
 },
 "nbformat": 4,
 "nbformat_minor": 2
}
